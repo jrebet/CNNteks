{
  "nbformat": 4,
  "nbformat_minor": 0,
  "metadata": {
    "colab": {
      "provenance": [],
      "toc_visible": true,
      "authorship_tag": "ABX9TyN/emB2wzmdLvn/z4qOtZzw",
      "include_colab_link": true
    },
    "kernelspec": {
      "name": "python3",
      "display_name": "Python 3"
    },
    "language_info": {
      "name": "python"
    }
  },
  "cells": [
    {
      "cell_type": "markdown",
      "metadata": {
        "id": "view-in-github",
        "colab_type": "text"
      },
      "source": [
        "<a href=\"https://colab.research.google.com/github/jrebet/CNNteks/blob/main/CNNteks.ipynb\" target=\"_parent\"><img src=\"https://colab.research.google.com/assets/colab-badge.svg\" alt=\"Open In Colab\"/></a>"
      ]
    },
    {
      "cell_type": "code",
      "execution_count": 3,
      "metadata": {
        "id": "SQ9W1Tq33nkw"
      },
      "outputs": [],
      "source": [
        "import tensorflow as tf\n",
        "from tensorflow.keras.datasets import imdb\n",
        "from tensorflow.keras.preprocessing.sequence import pad_sequences\n",
        "from tensorflow.keras.models import Sequential\n",
        "from tensorflow.keras.layers import Embedding, Conv1D, GlobalMaxPooling1D, Dense\n",
        "\n",
        "# Set parameter untuk dataset\n",
        "vocab_size = 10000  # Jumlah kata unik yang akan diambil\n",
        "max_len = 200  # Panjang maksimum setiap sequence\n",
        "\n",
        "# Memuat dataset IMDb\n",
        "(x_train, y_train), (x_test, y_test) = imdb.load_data(num_words=vocab_size)\n",
        "\n",
        "# Padding sequence agar memiliki panjang yang sama\n",
        "x_train = pad_sequences(x_train, maxlen=max_len)\n",
        "x_test = pad_sequences(x_test, maxlen=max_len)\n"
      ]
    },
    {
      "cell_type": "code",
      "source": [
        "# Membangun model CNN\n",
        "model = Sequential([\n",
        "    Embedding(vocab_size, 128, input_length=max_len),\n",
        "    Conv1D(128, 5, activation='relu'),\n",
        "    GlobalMaxPooling1D(),\n",
        "    Dense(1, activation='sigmoid')\n",
        "])\n",
        "\n",
        "# Compile model\n",
        "model.compile(optimizer='adam',\n",
        "              loss='binary_crossentropy',\n",
        "              metrics=['accuracy'])\n",
        "\n",
        "# Tampilkan ringkasan model\n",
        "model.summary()\n"
      ],
      "metadata": {
        "colab": {
          "base_uri": "https://localhost:8080/"
        },
        "id": "lXWXrmkE8Dep",
        "outputId": "afc37c5f-9ec2-4b1b-cfbe-b325521282bb"
      },
      "execution_count": 4,
      "outputs": [
        {
          "output_type": "stream",
          "name": "stdout",
          "text": [
            "Model: \"sequential_1\"\n",
            "_________________________________________________________________\n",
            " Layer (type)                Output Shape              Param #   \n",
            "=================================================================\n",
            " embedding_1 (Embedding)     (None, 200, 128)          1280000   \n",
            "                                                                 \n",
            " conv1d_1 (Conv1D)           (None, 196, 128)          82048     \n",
            "                                                                 \n",
            " global_max_pooling1d_1 (Gl  (None, 128)               0         \n",
            " obalMaxPooling1D)                                               \n",
            "                                                                 \n",
            " dense_1 (Dense)             (None, 1)                 129       \n",
            "                                                                 \n",
            "=================================================================\n",
            "Total params: 1362177 (5.20 MB)\n",
            "Trainable params: 1362177 (5.20 MB)\n",
            "Non-trainable params: 0 (0.00 Byte)\n",
            "_________________________________________________________________\n"
          ]
        }
      ]
    },
    {
      "cell_type": "code",
      "source": [
        "# Melatih model\n",
        "epochs = 5\n",
        "batch_size = 32\n",
        "history = model.fit(x_train, y_train,\n",
        "                    epochs=epochs,\n",
        "                    batch_size=batch_size,\n",
        "                    validation_data=(x_test, y_test))\n"
      ],
      "metadata": {
        "colab": {
          "base_uri": "https://localhost:8080/"
        },
        "id": "_fl_SkyN8a6C",
        "outputId": "a222ae16-bc6e-4327-f0bb-551f94eec34b"
      },
      "execution_count": 6,
      "outputs": [
        {
          "output_type": "stream",
          "name": "stdout",
          "text": [
            "Epoch 1/5\n",
            "782/782 [==============================] - 94s 120ms/step - loss: 0.1711 - accuracy: 0.9364 - val_loss: 0.2664 - val_accuracy: 0.8910\n",
            "Epoch 2/5\n",
            "782/782 [==============================] - 89s 114ms/step - loss: 0.0659 - accuracy: 0.9823 - val_loss: 0.3037 - val_accuracy: 0.8876\n",
            "Epoch 3/5\n",
            "782/782 [==============================] - 91s 117ms/step - loss: 0.0179 - accuracy: 0.9980 - val_loss: 0.3493 - val_accuracy: 0.8870\n",
            "Epoch 4/5\n",
            "782/782 [==============================] - 98s 125ms/step - loss: 0.0045 - accuracy: 0.9998 - val_loss: 0.3896 - val_accuracy: 0.8865\n",
            "Epoch 5/5\n",
            "782/782 [==============================] - 95s 121ms/step - loss: 0.0013 - accuracy: 1.0000 - val_loss: 0.4246 - val_accuracy: 0.8861\n"
          ]
        }
      ]
    },
    {
      "cell_type": "code",
      "source": [
        "# Evaluasi model pada data testing\n",
        "loss, accuracy = model.evaluate(x_test, y_test)\n",
        "print(f'Loss: {loss}, Accuracy: {accuracy}')\n"
      ],
      "metadata": {
        "colab": {
          "base_uri": "https://localhost:8080/"
        },
        "id": "UJGTQGa-8uTe",
        "outputId": "60eab30f-8bae-4984-eb2c-6001781d6db1"
      },
      "execution_count": 7,
      "outputs": [
        {
          "output_type": "stream",
          "name": "stdout",
          "text": [
            "782/782 [==============================] - 19s 24ms/step - loss: 0.4246 - accuracy: 0.8861\n",
            "Loss: 0.42456379532814026, Accuracy: 0.8860800266265869\n"
          ]
        }
      ]
    }
  ]
}